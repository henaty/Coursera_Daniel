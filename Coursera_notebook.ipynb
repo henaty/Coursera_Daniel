{
  "nbformat": 4,
  "nbformat_minor": 0,
  "metadata": {
    "colab": {
      "provenance": []
    },
    "kernelspec": {
      "name": "python3",
      "display_name": "Python 3"
    },
    "language_info": {
      "name": "python"
    }
  },
  "cells": [
    {
      "cell_type": "markdown",
      "source": [
        "Cuaderno"
      ],
      "metadata": {
        "id": "i0oJutBXMehf"
      }
    },
    {
      "cell_type": "code",
      "source": [
        "\"Introducción\""
      ],
      "metadata": {
        "colab": {
          "base_uri": "https://localhost:8080/",
          "height": 35
        },
        "id": "8UL32Lb9NPKL",
        "outputId": "7d1f5594-7944-4cac-809c-58098fb2274e"
      },
      "execution_count": 4,
      "outputs": [
        {
          "output_type": "execute_result",
          "data": {
            "text/plain": [
              "'Introducción'"
            ],
            "application/vnd.google.colaboratory.intrinsic+json": {
              "type": "string"
            }
          },
          "metadata": {},
          "execution_count": 4
        }
      ]
    },
    {
      "cell_type": "markdown",
      "source": [
        "**Lenguajes**\n",
        "1. **Python**\n",
        "2. **R**\n",
        "3. **SQL**\n",
        "4. **Julia**\n",
        "5. **Scala**\n",
        "6. **Java**"
      ],
      "metadata": {
        "id": "nLKppDUCOwsz"
      }
    },
    {
      "cell_type": "markdown",
      "source": [
        "**Bibliotecas**\n",
        "1. **Pandas**\n",
        "\n",
        "2. **NumPy**\n",
        "\n",
        "3. **Matplotlib** y **Seaborn**\n",
        "\n",
        "4. **Scikit-Learn**\n",
        "\n",
        "5. **TensorFlow** y **PyTorch**\n",
        "\n",
        "6. **Statsmodels**\n",
        "\n",
        "7. **NLTK** y **spaCy**\n",
        "\n",
        "8. **Plotl**\n"
      ],
      "metadata": {
        "id": "Nn097D_GQE7f"
      }
    },
    {
      "cell_type": "markdown",
      "source": [
        "\n",
        " **Herramientas**\n",
        "\n",
        "1.   **RStudio**\n",
        "2.   **Apache Spark**\n",
        "3.   **Tableau**          \n",
        "4. **Power BI**        \n",
        "5. **Hadoop**       \n",
        "6. **TensorFlow**       \n",
        "7. **KNIME**\n",
        "8. **Google Colab**\n",
        "9. **SQL**\n"
      ],
      "metadata": {
        "id": "7zznDquTQ8XQ"
      }
    },
    {
      "cell_type": "markdown",
      "source": [
        "# Suma\n",
        "5+5, 3+4, a+b\n",
        "# Resta\n",
        "2-3, 5-7, a-b\n",
        "# Multiplicación\n",
        "(2)(5), (6)(8), (a)(b)\n",
        "#División\n",
        "1/4, 5/6, a/b\n"
      ],
      "metadata": {
        "id": "iBA6qecUVb6s"
      }
    },
    {
      "cell_type": "code",
      "source": [
        "# Multiplicar y sumar números\n",
        "2*5, 5+7, 3+5*7+5"
      ],
      "metadata": {
        "colab": {
          "base_uri": "https://localhost:8080/"
        },
        "id": "xAQzq7EdWVF_",
        "outputId": "fcc546c4-000d-47d6-8cf4-b6cc6e1bbaf0"
      },
      "execution_count": 25,
      "outputs": [
        {
          "output_type": "execute_result",
          "data": {
            "text/plain": [
              "(10, 12, 43)"
            ]
          },
          "metadata": {},
          "execution_count": 25
        }
      ]
    },
    {
      "cell_type": "code",
      "source": [
        "# convertir minutos en horas\n",
        "Minutos = 180\n",
        "Horas = Minutos / 60\n",
        "print(f\"{Minutos} minutos son {Horas} horas\")\n"
      ],
      "metadata": {
        "colab": {
          "base_uri": "https://localhost:8080/"
        },
        "id": "8SlwnFVIXFh8",
        "outputId": "bbf50eae-bf2c-448d-af4b-80760df211be"
      },
      "execution_count": 33,
      "outputs": [
        {
          "output_type": "stream",
          "name": "stdout",
          "text": [
            "180 minutos son 3.0 horas\n"
          ]
        }
      ]
    },
    {
      "cell_type": "code",
      "source": [
        "# Objetivos\n",
        "objetivos = [\n",
        "    \"1. Aprender los fundamentos de Python\",\n",
        "    \"2. Completar un proyecto de ciencia de datos\",\n",
        "    \"3. Mejorar las habilidades de visualización de datos\",\n",
        "    \"4. Familiarizarse con el aprendizaje automático\",\n",
        "    \"5. Contribuir a un proyecto de código abierto\"]"
      ],
      "metadata": {
        "id": "5GzKKZlZX9TB"
      },
      "execution_count": 37,
      "outputs": []
    },
    {
      "cell_type": "markdown",
      "source": [
        "# Autor\n",
        "**Nombre del Autor:** Daniel Iván González Madrigal"
      ],
      "metadata": {
        "id": "QQEez5FCa_nw"
      }
    }
  ]
}